{
  "nbformat": 4,
  "nbformat_minor": 0,
  "metadata": {
    "colab": {
      "name": "Burton_Sutton_ch_2.ipynb",
      "version": "0.3.2",
      "provenance": [],
      "collapsed_sections": [],
      "include_colab_link": true
    },
    "kernelspec": {
      "name": "python3",
      "display_name": "Python 3"
    }
  },
  "cells": [
    {
      "cell_type": "markdown",
      "metadata": {
        "id": "view-in-github",
        "colab_type": "text"
      },
      "source": [
        "<a href=\"https://colab.research.google.com/github/PGrabinski/ReinforcementLearning/blob/master/Burton_Sutton_ch_2.ipynb\" target=\"_parent\"><img src=\"https://colab.research.google.com/assets/colab-badge.svg\" alt=\"Open In Colab\"/></a>"
      ]
    },
    {
      "cell_type": "code",
      "metadata": {
        "id": "3_X78XjfhkTg",
        "colab_type": "code",
        "colab": {}
      },
      "source": [
        "import numpy as np\n",
        "import matplotlib.pyplot as plt\n",
        "%matplotlib inline"
      ],
      "execution_count": 0,
      "outputs": []
    },
    {
      "cell_type": "markdown",
      "metadata": {
        "id": "RhhgDk_hM2gS",
        "colab_type": "text"
      },
      "source": [
        "# K-bandit with $\\epsilon-$greedy learning"
      ]
    },
    {
      "cell_type": "code",
      "metadata": {
        "id": "9ZjlvkI9DpCQ",
        "colab_type": "code",
        "colab": {}
      },
      "source": [
        "class K_bandit:\n",
        "  def __init__(self, k, stationary=True, initial_values=None, noise_mean=0., noise_devation=0.01, automatic_update=True):\n",
        "    self.stationary = stationary\n",
        "    self.k = k\n",
        "    self.noise_deviation = 1\n",
        "    self.noise_mean = 0.\n",
        "    self.automatic_update = automatic_update\n",
        "    if self.stationary:\n",
        "      self.q_true = np.random.normal(loc=0., scale=1., size=(k,))\n",
        "    else:\n",
        "      if initial_values is None:\n",
        "        self.q_true = np.zeros(shape=(k,))\n",
        "      elif initial_values.shape == (k,):\n",
        "        self.q_true = initial_values\n",
        "        \n",
        "  def update_rewards(self):\n",
        "    if not self.stationary:\n",
        "      self.q_true += np.random.normal(loc=self.noise_mean, scale=self.noise_deviation, size=self.q_true.shape)      \n",
        "        \n",
        "  def __call__(self, action):\n",
        "    reward = self.q_true[action]\n",
        "    if self.automatic_update:\n",
        "      self.update_rewards()\n",
        "    return reward\n",
        "  \n",
        "  def max_reward(self):\n",
        "    true_max_reward = np.amax(self.q_true)\n",
        "    true_max_indices = np.argwhere(self.q_true == true_max_reward)\n",
        "    true_action_id = true_max_indices[np.random.randint(low=0, high=true_max_indices.shape[0])]\n",
        "    return true_action_id"
      ],
      "execution_count": 0,
      "outputs": []
    },
    {
      "cell_type": "code",
      "metadata": {
        "id": "ZpDVbpv5Hkxp",
        "colab_type": "code",
        "colab": {}
      },
      "source": [
        "class epsilon_greedy:\n",
        "  '''\n",
        "  epsilon-greedy with constant step alpha\n",
        "  with epsilon=0 it represents the greedy strategy\n",
        "  with high initial values it can represent the greed optimistic initial values strategy \n",
        "  '''\n",
        "  def __init__(self, k, bandit, alpha=0.1, epsilon=0.1, initial_values=None):\n",
        "    self.k = k\n",
        "    self.bandit = bandit\n",
        "    \n",
        "    if initial_values is None:\n",
        "      self.q_estimate = np.zeros(shape=(k,))\n",
        "    else:\n",
        "      self.q_estimate = initial_values\n",
        "    self.alpha = alpha\n",
        "    self.epsilon = epsilon\n",
        "    \n",
        "    self.step = None\n",
        "    self.total_reward = 0\n",
        "    self.avg_reward_history = []\n",
        "    self.total_right_decisions = 0\n",
        "    self.avg_right_decisions_history = []\n",
        "    \n",
        "  def make_step(self, max_action=None, true_values=None):\n",
        "    if self.step is None:\n",
        "      self.step = 1\n",
        "    action_id = None\n",
        "    max_reward = np.amax(self.q_estimate)\n",
        "    max_indices = np.argwhere(self.q_estimate == max_reward)\n",
        "    if max_action is None:\n",
        "      true_action_id = self.bandit.max_reward()\n",
        "    else:\n",
        "      tru_action_id = max_action\n",
        "    if np.random.random() <= self.epsilon:\n",
        "      action_id = np.random.randint(low=0, high=self.k)\n",
        "      if action_id == true_action_id:\n",
        "        self.total_right_decisions += 1\n",
        "    else:\n",
        "      action_id = max_indices[np.random.randint(low=0, high=max_indices.shape[0])]\n",
        "      if action_id == true_action_id:\n",
        "        self.total_right_decisions += 1\n",
        "    if true_values is None:\n",
        "      current_reward = self.bandit(action_id)\n",
        "    else:\n",
        "      current_reward = true_values[action_id]\n",
        "    self.q_estimate[action_id] = (1 - self.alpha) * self.q_estimate[action_id] + self.alpha * current_reward\n",
        "    self.total_reward += current_reward      \n",
        "    self.step += 1\n",
        "    self.avg_reward_history.append(self.total_reward/self.step)\n",
        "    self.avg_right_decisions_history.append(self.total_right_decisions/self.step)\n",
        "  "
      ],
      "execution_count": 0,
      "outputs": []
    },
    {
      "cell_type": "markdown",
      "metadata": {
        "id": "VVSn8qG0RVwp",
        "colab_type": "text"
      },
      "source": [
        "# Exercise 2.5"
      ]
    },
    {
      "cell_type": "code",
      "metadata": {
        "id": "aETBn_nD0_jj",
        "colab_type": "code",
        "colab": {}
      },
      "source": [
        "bandit = K_bandit(k=10, stationary=False, initial_values=None)"
      ],
      "execution_count": 0,
      "outputs": []
    },
    {
      "cell_type": "code",
      "metadata": {
        "id": "oG1K68ZBN-p4",
        "colab_type": "code",
        "colab": {}
      },
      "source": [
        "agent = epsilon_greedy(k=10, bandit=bandit, alpha=0.1, epsilon=0.1, initial_values=None)"
      ],
      "execution_count": 0,
      "outputs": []
    },
    {
      "cell_type": "code",
      "metadata": {
        "id": "yxhLrOeU1SWb",
        "colab_type": "code",
        "colab": {}
      },
      "source": [
        "for _ in range(200000):\n",
        "  agent.make_step()"
      ],
      "execution_count": 0,
      "outputs": []
    },
    {
      "cell_type": "code",
      "metadata": {
        "id": "DwVAnDBT12VR",
        "colab_type": "code",
        "outputId": "43b1d805-baa2-458d-f096-08e39a4d9233",
        "colab": {
          "base_uri": "https://localhost:8080/",
          "height": 287
        }
      },
      "source": [
        "X = np.arange(len(agent.avg_right_decisions_history))\n",
        "plt.plot(X, np.array(agent.avg_right_decisions_history), label='Learned')\n",
        "plt.plot(X, 0.91*np.ones(shape=X.shape), label='91%')\n",
        "plt.legend()\n",
        "plt.ylim((0,1))"
      ],
      "execution_count": 7,
      "outputs": [
        {
          "output_type": "execute_result",
          "data": {
            "text/plain": [
              "(0, 1)"
            ]
          },
          "metadata": {
            "tags": []
          },
          "execution_count": 7
        },
        {
          "output_type": "display_data",
          "data": {
            "image/png": "[encoded data removed]",
            "text/plain": [
              "<Figure size 432x288 with 1 Axes>"
            ]
          },
          "metadata": {
            "tags": []
          }
        }
      ]
    },
    {
      "cell_type": "code",
      "metadata": {
        "id": "Z8izT4o6U5AQ",
        "colab_type": "code",
        "outputId": "1ce68901-980e-45b4-8a87-1e4959e20f36",
        "colab": {
          "base_uri": "https://localhost:8080/",
          "height": 287
        }
      },
      "source": [
        "X2 = np.arange(len(agent.avg_reward_history))\n",
        "plt.plot(X2, np.array(agent.avg_reward_history), label='Learned')\n",
        "plt.legend()"
      ],
      "execution_count": 8,
      "outputs": [
        {
          "output_type": "execute_result",
          "data": {
            "text/plain": [
              "<matplotlib.legend.Legend at 0x7f0b5def8550>"
            ]
          },
          "metadata": {
            "tags": []
          },
          "execution_count": 8
        },
        {
          "output_type": "display_data",
          "data": {
            "image/png": "[encoded data removed]",
            "text/plain": [
              "<Figure size 432x288 with 1 Axes>"
            ]
          },
          "metadata": {
            "tags": []
          }
        }
      ]
    },
    {
      "cell_type": "code",
      "metadata": {
        "id": "2ZLwG7Yb6JRX",
        "colab_type": "code",
        "outputId": "5ad3af31-bc51-46f4-b1c4-a5108f8ed8c4",
        "colab": {
          "base_uri": "https://localhost:8080/",
          "height": 72
        }
      },
      "source": [
        "bandit.q_true"
      ],
      "execution_count": 9,
      "outputs": [
        {
          "output_type": "execute_result",
          "data": {
            "text/plain": [
              "array([ 375.86344135,  363.98968458,  296.10687429, -342.36715909,\n",
              "        -37.88909394, -369.53797782, -298.74177433,  113.10110408,\n",
              "        480.76348285, -138.17864348])"
            ]
          },
          "metadata": {
            "tags": []
          },
          "execution_count": 9
        }
      ]
    },
    {
      "cell_type": "code",
      "metadata": {
        "id": "smgYOdM8A_p7",
        "colab_type": "code",
        "outputId": "43974cf1-720e-441c-d2d6-394d8df6e6a7",
        "colab": {
          "base_uri": "https://localhost:8080/",
          "height": 72
        }
      },
      "source": [
        "agent.q_estimate"
      ],
      "execution_count": 10,
      "outputs": [
        {
          "output_type": "execute_result",
          "data": {
            "text/plain": [
              "array([ 400.81386127,  359.67852906,  290.51335428, -348.01796987,\n",
              "        -79.30320159, -373.44591807, -303.19164327,   92.81502797,\n",
              "        482.13924259, -134.88352758])"
            ]
          },
          "metadata": {
            "tags": []
          },
          "execution_count": 10
        }
      ]
    },
    {
      "cell_type": "code",
      "metadata": {
        "id": "gYKDKqyUMuTH",
        "colab_type": "code",
        "outputId": "d205ccd5-25fc-4e3e-c1d5-6e7d6db9ea82",
        "colab": {
          "base_uri": "https://localhost:8080/",
          "height": 72
        }
      },
      "source": [
        "bandit.q_true - agent.q_estimate"
      ],
      "execution_count": 11,
      "outputs": [
        {
          "output_type": "execute_result",
          "data": {
            "text/plain": [
              "array([-24.95041992,   4.31115552,   5.59352   ,   5.65081077,\n",
              "        41.41410766,   3.90794025,   4.44986894,  20.28607611,\n",
              "        -1.37575974,  -3.2951159 ])"
            ]
          },
          "metadata": {
            "tags": []
          },
          "execution_count": 11
        }
      ]
    },
    {
      "cell_type": "code",
      "metadata": {
        "id": "fAnYcOnZBFrp",
        "colab_type": "code",
        "outputId": "2016769c-0320-4abc-9302-0a02afd034a4",
        "colab": {
          "base_uri": "https://localhost:8080/",
          "height": 54
        }
      },
      "source": [
        "(bandit.q_true - agent.q_estimate) / bandit.q_true"
      ],
      "execution_count": 12,
      "outputs": [
        {
          "output_type": "execute_result",
          "data": {
            "text/plain": [
              "array([-0.06638161,  0.01184417,  0.01889021, -0.01650512, -1.09303505,\n",
              "       -0.01057521, -0.01489537,  0.17936232, -0.00286161,  0.02384678])"
            ]
          },
          "metadata": {
            "tags": []
          },
          "execution_count": 12
        }
      ]
    },
    {
      "cell_type": "markdown",
      "metadata": {
        "id": "QpoPytVNRaFq",
        "colab_type": "text"
      },
      "source": [
        "# Exercise 2.11"
      ]
    },
    {
      "cell_type": "code",
      "metadata": {
        "id": "bgy7ojqVRbvD",
        "colab_type": "code",
        "colab": {
          "base_uri": "https://localhost:8080/",
          "height": 54
        },
        "outputId": "f4b1e7c6-c96d-4e79-89a4-bd07ba4bb787"
      },
      "source": [
        "length = 200000\n",
        "half_length = int(length*0.5)\n",
        "N = 10\n",
        "resolution = 5\n",
        "alphas = [2**(1/resolution*i-7) for i in range(0, 9*resolution+1)]\n",
        "performances = np.zeros(shape=(len(alphas),))\n",
        "for _ in range(N):\n",
        "  bandit = K_bandit(k=10, stationary=False, initial_values=None, automatic_update=False)\n",
        "  for id, alpha in enumerate(alphas):\n",
        "    agent = epsilon_greedy(k=10, bandit=bandit, alpha=alpha, epsilon=0.1, initial_values=None)\n",
        "    for _ in range(length):\n",
        "      agent.make_step()\n",
        "      bandit.update_rewards()\n",
        "    performance = (agent.avg_reward_history[-1] * length - agent.avg_reward_history[half_length] * half_length) / half_length\n",
        "    performances[id] += performance\n",
        "  performance = np.array(performances).mean()\n",
        "performances /= N "
      ],
      "execution_count": 35,
      "outputs": [
        {
          "output_type": "stream",
          "text": [
            "/usr/local/lib/python3.6/dist-packages/ipykernel_launcher.py:46: RuntimeWarning: overflow encountered in multiply\n",
            "/usr/local/lib/python3.6/dist-packages/ipykernel_launcher.py:46: RuntimeWarning: overflow encountered in double_scalars\n"
          ],
          "name": "stderr"
        }
      ]
    },
    {
      "cell_type": "code",
      "metadata": {
        "id": "H_JZWEWdT3UN",
        "colab_type": "code",
        "outputId": "9ffdb674-bd84-4d5a-c646-31f2a131f696",
        "colab": {
          "base_uri": "https://localhost:8080/",
          "height": 235
        }
      },
      "source": [
        "performances"
      ],
      "execution_count": 36,
      "outputs": [
        {
          "output_type": "execute_result",
          "data": {
            "text/plain": [
              "array([ 588.84850519,  868.05299925, 1180.71897776, 1378.84775508,\n",
              "       1470.9602703 , 1570.19745818, 1661.6686484 , 1815.38467454,\n",
              "       1836.12146092, 1993.66889442, 2083.10258658, 2057.48728131,\n",
              "       2278.55668278, 2346.26378027, 2459.44595439, 2719.77264088,\n",
              "       2790.06470321, 2888.52556991, 2761.25867332, 2858.27383071,\n",
              "       2983.18838795, 3009.08971346, 3172.78615261, 3318.89432257,\n",
              "       3327.80806732, 3533.29612389, 3533.46646283, 3757.34141206,\n",
              "       3687.60063831, 4059.33276443, 4007.36869868, 3851.12802744,\n",
              "       3789.96708454, 3994.65433338, 3988.40979569, 3848.50237066,\n",
              "       4073.2891078 , 4233.25915255, 4248.40436423, 4301.72687709,\n",
              "       2522.05889372,  315.07588914,  321.33155924,  317.90000454,\n",
              "        389.08219203,  414.55016537])"
            ]
          },
          "metadata": {
            "tags": []
          },
          "execution_count": 36
        }
      ]
    },
    {
      "cell_type": "code",
      "metadata": {
        "id": "eNcwkYBMT9u0",
        "colab_type": "code",
        "colab": {
          "base_uri": "https://localhost:8080/",
          "height": 287
        },
        "outputId": "2b49764a-44f7-40b2-bedc-e862f29cde8f"
      },
      "source": [
        "plt.plot(np.array(alphas), performances)\n"
      ],
      "execution_count": 37,
      "outputs": [
        {
          "output_type": "execute_result",
          "data": {
            "text/plain": [
              "[<matplotlib.lines.Line2D at 0x7f0b591c3eb8>]"
            ]
          },
          "metadata": {
            "tags": []
          },
          "execution_count": 37
        },
        {
          "output_type": "display_data",
          "data": {
            "image/png": "[encoded data removed]",
            "text/plain": [
              "<Figure size 432x288 with 1 Axes>"
            ]
          },
          "metadata": {
            "tags": []
          }
        }
      ]
    },
    {
      "cell_type": "code",
      "metadata": {
        "id": "pjjbS-sXUhog",
        "colab_type": "code",
        "colab": {}
      },
      "source": [
        ""
      ],
      "execution_count": 0,
      "outputs": []
    }
  ]
}